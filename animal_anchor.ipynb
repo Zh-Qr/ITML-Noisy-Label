{
 "cells": [
  {
   "cell_type": "code",
   "execution_count": 1,
   "id": "b1737b33-0112-490a-8010-05994bf6fd77",
   "metadata": {
    "tags": []
   },
   "outputs": [
    {
     "name": "stdout",
     "output_type": "stream",
     "text": [
      "Environment setup is done\n"
     ]
    }
   ],
   "source": [
    "import numpy as np\n",
    "import torch\n",
    "import torch.nn as nn\n",
    "import torch.optim as optim\n",
    "import torchvision.transforms as transforms\n",
    "from torchvision.models import resnet34\n",
    "import pandas as pd\n",
    "from torch.utils.data import DataLoader, Dataset\n",
    "import os\n",
    "from PIL import Image\n",
    "\n",
    "print(\"Environment setup is done\")"
   ]
  },
  {
   "cell_type": "code",
   "execution_count": 2,
   "id": "d3b7e2f7-d417-45cd-a225-40c3e6853c57",
   "metadata": {
    "tags": []
   },
   "outputs": [],
   "source": [
    "# 设置设备\n",
    "device = torch.device(\"cuda\" if torch.cuda.is_available() else \"cpu\")\n",
    "batch_size = 256\n",
    "\n",
    "# 数据集路径\n",
    "train_path = 'autodl-tmp/ANIMAL-10N/training'\n",
    "test_path = 'autodl-tmp/ANIMAL-10N/testing'\n",
    "\n",
    "# 读取图像文件和标签\n",
    "def load_images_labels(file_path):\n",
    "    images, labels = [], []\n",
    "    images_file = os.listdir(file_path)\n",
    "    for image_file in images_file:\n",
    "        image_path = os.path.join(file_path, image_file)\n",
    "        label = int(image_file[0])  # 文件名首字母为标签\n",
    "        image = Image.open(image_path).convert('RGB')\n",
    "        images.append(image)\n",
    "        labels.append(label)\n",
    "    return images, labels\n",
    "\n",
    "# 加载训练和测试数据\n",
    "train_images, train_labels = load_images_labels(train_path)\n",
    "test_images, test_labels = load_images_labels(test_path)\n",
    "\n",
    "# 自定义 Dataset 类\n",
    "class AnimalDataset(Dataset):\n",
    "    def __init__(self, images, labels, transform=None):\n",
    "        self.images = images\n",
    "        self.labels = labels\n",
    "        self.transform = transform\n",
    "\n",
    "    def __len__(self):\n",
    "        return len(self.images)\n",
    "\n",
    "    def __getitem__(self, idx):\n",
    "        image = self.images[idx]\n",
    "        label = torch.tensor(self.labels[idx], dtype=torch.long)\n",
    "        if self.transform:\n",
    "            image = self.transform(image)\n",
    "        return image, label\n",
    "\n",
    "# 数据增强（训练集和测试集）\n",
    "transforms_train = transforms.Compose([\n",
    "    transforms.RandomHorizontalFlip(),\n",
    "    transforms.RandomCrop(32, padding=4),\n",
    "    transforms.ToTensor(),\n",
    "    transforms.Normalize((0.5, 0.5, 0.5), (0.5, 0.5, 0.5))\n",
    "])\n",
    "\n",
    "transforms_test = transforms.Compose([\n",
    "    transforms.ToTensor(),\n",
    "    transforms.Normalize((0.5, 0.5, 0.5), (0.5, 0.5, 0.5))\n",
    "])\n",
    "\n",
    "# 创建数据加载器\n",
    "test_train_set = AnimalDataset(images=test_images, labels=test_labels, transform=transforms_train)\n",
    "test_train_loader = DataLoader(test_train_set, batch_size=batch_size, shuffle=True, num_workers=4)\n",
    "\n",
    "train_test_set = AnimalDataset(images=train_images, labels=train_labels, transform=transforms_test)\n",
    "train_test_loader = DataLoader(train_test_set, batch_size=batch_size, shuffle=False, num_workers=4)"
   ]
  },
  {
   "cell_type": "code",
   "execution_count": 3,
   "id": "0e45e73e-e97a-4a66-985e-4c6f2738c6dd",
   "metadata": {
    "tags": []
   },
   "outputs": [],
   "source": [
    "# 定义 ResNet 模型\n",
    "def initialize_model():\n",
    "    model = resnet34(weights=None)\n",
    "    model.fc = nn.Linear(model.fc.in_features, 10)  # 数据集类别数为10\n",
    "    return model.to(device)\n",
    "\n",
    "# 定义损失函数和优化器\n",
    "def initialize_optimizer(model):\n",
    "    optimizer = optim.SGD(model.parameters(), lr=0.5, momentum=0.9, weight_decay=5e-4)\n",
    "    scheduler = optim.lr_scheduler.StepLR(optimizer, step_size=30, gamma=0.1)\n",
    "    return optimizer, scheduler"
   ]
  },
  {
   "cell_type": "code",
   "execution_count": 4,
   "id": "97e874cd-7eea-48ac-afb5-dafe72809fff",
   "metadata": {
    "tags": []
   },
   "outputs": [],
   "source": [
    "# 训练函数\n",
    "def train(model, loader, criterion, optimizer):\n",
    "    model.train()\n",
    "    running_loss, correct, total = 0.0, 0, 0\n",
    "    for inputs, targets in loader:\n",
    "        inputs, targets = inputs.to(device), targets.to(device)\n",
    "        \n",
    "        optimizer.zero_grad()\n",
    "        outputs = model(inputs)\n",
    "        loss = criterion(outputs, targets).mean()\n",
    "        loss.backward()\n",
    "        optimizer.step()\n",
    "        \n",
    "        running_loss += loss.item()\n",
    "        _, predicted = outputs.max(1)\n",
    "        total += targets.size(0)\n",
    "        correct += predicted.eq(targets).sum().item()\n",
    "    \n",
    "    avg_loss = running_loss / len(loader)\n",
    "    accuracy = 100. * correct / total\n",
    "    return avg_loss, accuracy\n",
    "\n",
    "# 测试函数\n",
    "def test(model, loader, criterion):\n",
    "    model.eval()\n",
    "    running_loss, correct, total = 0.0, 0, 0\n",
    "    with torch.no_grad():\n",
    "        for inputs, targets in loader:\n",
    "            inputs, targets = inputs.to(device), targets.to(device)\n",
    "            outputs = model(inputs)\n",
    "            loss = criterion(outputs, targets).mean()\n",
    "            running_loss += loss.item()\n",
    "            _, predicted = outputs.max(1)\n",
    "            total += targets.size(0)\n",
    "            correct += predicted.eq(targets).sum().item()\n",
    "    \n",
    "    avg_loss = running_loss / len(loader)\n",
    "    accuracy = 100. * correct / total\n",
    "    return avg_loss, accuracy\n",
    "\n",
    "# 创建文件夹\n",
    "os.makedirs('log', exist_ok=True)\n",
    "os.makedirs('weight', exist_ok=True)"
   ]
  },
  {
   "cell_type": "code",
   "execution_count": null,
   "id": "b8bee7b9-0380-43c1-85cd-93d73beb237b",
   "metadata": {
    "tags": []
   },
   "outputs": [
    {
     "name": "stdout",
     "output_type": "stream",
     "text": [
      "-----------------直接训练开始-----------------\n",
      "Epoch 1 - Train Loss: 13.0470, Train Acc: 61.59%, Test Loss: 45.4810, Test Acc: 9.50%\n",
      "Epoch 2 - Train Loss: 20.6834, Train Acc: 34.90%, Test Loss: 43.2687, Test Acc: 9.50%\n",
      "Epoch 3 - Train Loss: 20.5145, Train Acc: 34.98%, Test Loss: 43.1418, Test Acc: 9.50%\n",
      "Epoch 4 - Train Loss: 20.3516, Train Acc: 35.41%, Test Loss: 42.7341, Test Acc: 9.50%\n",
      "Epoch 5 - Train Loss: 20.3068, Train Acc: 35.41%, Test Loss: 42.6315, Test Acc: 9.50%\n",
      "Epoch 6 - Train Loss: 20.3208, Train Acc: 35.41%, Test Loss: 42.8128, Test Acc: 9.50%\n",
      "Epoch 7 - Train Loss: 20.2896, Train Acc: 35.41%, Test Loss: 42.6273, Test Acc: 9.50%\n",
      "Epoch 8 - Train Loss: 20.3028, Train Acc: 35.41%, Test Loss: 42.7455, Test Acc: 9.50%\n",
      "Epoch 9 - Train Loss: 20.2990, Train Acc: 35.41%, Test Loss: 42.6950, Test Acc: 9.50%\n",
      "Epoch 10 - Train Loss: 50.4027, Train Acc: 73.85%, Test Loss: 1386.1429, Test Acc: 9.50%\n"
     ]
    }
   ],
   "source": [
    "print(f\"-----------------直接训练开始-----------------\")\n",
    "    \n",
    "model = initialize_model()\n",
    "optimizer, scheduler = initialize_optimizer(model)\n",
    "criterion = nn.CrossEntropyLoss(reduction='none')\n",
    "\n",
    "train_losses, train_accuracies, test_losses, test_accuracies = [], [], [], []\n",
    "\n",
    "# 直接训练\n",
    "for epoch in range(100):\n",
    "    train_loss, train_accuracy = train(model, train_test_loader, criterion, optimizer)  # 用测试集训练\n",
    "    test_loss, test_accuracy = test(model, test_train_loader, criterion)  # 用训练集测试\n",
    "    scheduler.step()\n",
    "        \n",
    "    train_losses.append(train_loss)\n",
    "    train_accuracies.append(train_accuracy)\n",
    "    test_losses.append(test_loss)\n",
    "    test_accuracies.append(test_accuracy)\n",
    "\n",
    "    print(f'Epoch {epoch + 1} - Train Loss: {train_loss:.4f}, Train Acc: {train_accuracy:.2f}%, '\n",
    "          f'Test Loss: {test_loss:.4f}, Test Acc: {test_accuracy:.2f}%')\n",
    "    if train_accuracy > 99.999:\n",
    "        break\n",
    "\n",
    "# 保存训练日志\n",
    "pd.DataFrame({\n",
    "    'Epoch': range(1, len(train_losses) + 1),\n",
    "    'Train Loss': train_losses,\n",
    "    'Train Accuracy': train_accuracies,\n",
    "    'Test Loss': test_losses,\n",
    "    'Test Accuracy': test_accuracies\n",
    "}).to_csv(f'log/animal_train_on_test_data.csv', index=False)\n",
    "    \n",
    "torch.save(model.state_dict(), f'weight/resnet34_animal_trained_on_test.pth')\n",
    "print(f\"训练过程已保存到 'log/animal_train_on_test_data.csv'，模型权重保存为 'weight/resnet34_animal_trained_on_test.pth'\")"
   ]
  },
  {
   "cell_type": "code",
   "execution_count": null,
   "id": "4e2cc511-44a0-468c-9f22-50200c5216a9",
   "metadata": {},
   "outputs": [],
   "source": []
  }
 ],
 "metadata": {
  "kernelspec": {
   "display_name": "Python 3 (ipykernel)",
   "language": "python",
   "name": "python3"
  },
  "language_info": {
   "codemirror_mode": {
    "name": "ipython",
    "version": 3
   },
   "file_extension": ".py",
   "mimetype": "text/x-python",
   "name": "python",
   "nbconvert_exporter": "python",
   "pygments_lexer": "ipython3",
   "version": "3.8.10"
  }
 },
 "nbformat": 4,
 "nbformat_minor": 5
}
